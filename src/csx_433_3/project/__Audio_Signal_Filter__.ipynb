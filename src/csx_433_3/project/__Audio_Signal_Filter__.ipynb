{
 "cells": [
  {
   "cell_type": "markdown",
   "metadata": {},
   "source": [
    "# Filtering and Visual Analysis of an Audio Signal using Python"
   ]
  },
  {
   "cell_type": "markdown",
   "metadata": {},
   "source": [
    "## Code and Plots Location (GitHub Repository)\n",
    "\n",
    "* Name: Sanatan Das\n",
    "\n",
    "* Email: sanatanonline@gmail.com\n",
    "\n",
    "* GitHub: https://github.com/sanatanonline/compscix-433-assignments/tree/master/src/csx_433_3/project\n"
   ]
  },
  {
   "cell_type": "markdown",
   "metadata": {},
   "source": [
    "## Summary\n",
    "\n",
    "This project builds a low pass and high pass filter to apply on an audio input file.\n",
    "In this process, we remove a certain range of frequencies from the input audio signal.\n",
    "After applying the filter, we write it to an output audio file.\n",
    "We plot the amplitudes and frequencies of the input and output audio file and compare them."
   ]
  },
  {
   "cell_type": "markdown",
   "metadata": {},
   "source": [
    "## Procedure:\n",
    "\n",
    "* Read in audio (input)\n",
    "\n",
    "* Apply STFT (Window and FFT)\n",
    "\n",
    "* Remove a range of frequencies we want out\n",
    "\n",
    "* Apply Inverse STFT (to re-synthesize)\n",
    "\n",
    "* Write new audio (output)"
   ]
  },
  {
   "cell_type": "markdown",
   "metadata": {},
   "source": [
    "## Code"
   ]
  },
  {
   "cell_type": "markdown",
   "metadata": {},
   "source": [
    "### Import the libraries"
   ]
  },
  {
   "cell_type": "code",
   "execution_count": null,
   "metadata": {},
   "outputs": [],
   "source": [
    "# Import matplotlib.pyplot library and reference it as 'plt'\n",
    "import matplotlib.pyplot as plt\n",
    "# Import numpy library and reference it as 'np'\n",
    "import numpy as np\n",
    "# Import scipy library\n",
    "import scipy\n",
    "# Import scipy.io.wavfile and reference it as 'wf'.\n",
    "# This is needed to avoid the longer lines in module\n",
    "import scipy.io.wavfile as wf"
   ]
  },
  {
   "cell_type": "markdown",
   "metadata": {},
   "source": [
    "### Function for plotting different graphs in the module"
   ]
  },
  {
   "cell_type": "code",
   "execution_count": null,
   "metadata": {},
   "outputs": [],
   "source": [
    "# Function for plotting different graphs in the module\n",
    "def setup_graph(title='', x_label='', y_label='', fig_size=None):\n",
    "    # Initialize the plot\n",
    "    fig = plt.figure()\n",
    "    # Check the figure size, it should not be None\n",
    "    if fig_size is not None:\n",
    "        fig.set_size_inches(fig_size[0], fig_size[1])\n",
    "    # Create subplot\n",
    "    ax = fig.add_subplot(111)\n",
    "    # Add title\n",
    "    ax.set_title(title)\n",
    "    # Add X-axis label\n",
    "    ax.set_xlabel(x_label)\n",
    "    # Add Y-axis label\n",
    "    ax.set_ylabel(y_label)"
   ]
  },
  {
   "cell_type": "markdown",
   "metadata": {},
   "source": [
    "### stft and istft function"
   ]
  },
  {
   "cell_type": "code",
   "execution_count": null,
   "metadata": {},
   "outputs": [],
   "source": [
    "def stft(input_data, stft_window_size, hop_size):\n",
    "    window = scipy.hamming(stft_window_size)\n",
    "    output = scipy.array([scipy.fft(window*input_data[i:i+stft_window_size])\n",
    "                         for i in range(0, len(input_data)-stft_window_size, hop_size)])\n",
    "    return output\n",
    "\n",
    "\n",
    "def istft(input_data, istft_sample_rate, istft_window_size, hop_size, total_time):\n",
    "    output = scipy.zeros(int(total_time*istft_sample_rate))\n",
    "    for n, i in enumerate(range(0, len(output)-istft_window_size, hop_size)):\n",
    "        output[i:i+istft_window_size] += scipy.real(scipy.ifft(input_data[n]))\n",
    "    return output"
   ]
  },
  {
   "cell_type": "markdown",
   "metadata": {},
   "source": [
    "### Low pass filter"
   ]
  },
  {
   "cell_type": "code",
   "execution_count": null,
   "metadata": {},
   "outputs": [],
   "source": [
    "def low_pass_filter(max_freq, lpf_window_size, lpf_sample_rate):\n",
    "    fft_bin_width = lpf_sample_rate / lpf_window_size\n",
    "    max_freq_bin = int(max_freq / fft_bin_width)\n",
    "    filter_block = np.ones(lpf_window_size)\n",
    "    filter_block[max_freq_bin:(lpf_window_size - max_freq_bin)] = 0\n",
    "    return filter_block"
   ]
  },
  {
   "cell_type": "markdown",
   "metadata": {},
   "source": [
    "### High pass filter"
   ]
  },
  {
   "cell_type": "code",
   "execution_count": null,
   "metadata": {},
   "outputs": [],
   "source": [
    "def high_pass_filter(hpf_min_freq, hpf_window_size, hpf_sample_rate):\n",
    "    return np.ones(hpf_window_size) - low_pass_filter(hpf_min_freq, hpf_window_size, hpf_sample_rate)"
   ]
  },
  {
   "cell_type": "markdown",
   "metadata": {},
   "source": [
    "### Write the output audio file"
   ]
  },
  {
   "cell_type": "code",
   "execution_count": null,
   "metadata": {},
   "outputs": [],
   "source": [
    "def write_audio_file(file_name, file_data, out_sample_rate):\n",
    "    wf.write(file_name, out_sample_rate, file_data)"
   ]
  },
  {
   "cell_type": "markdown",
   "metadata": {},
   "source": [
    "### Apply filter function"
   ]
  },
  {
   "cell_type": "code",
   "execution_count": null,
   "metadata": {},
   "outputs": [],
   "source": [
    "def filter_audio(filter_input_signal, filter_sample_rate, input_filter_window, filter_window_size=256):\n",
    "    # Setting parameters\n",
    "    hop_size = window_size // 2\n",
    "    total_time = len(filter_input_signal) / filter_sample_rate\n",
    "\n",
    "    # Do actual filtering\n",
    "    stft_output = stft(filter_input_signal, filter_window_size, hop_size)\n",
    "    filtered_result = [original * input_filter_window for original in stft_output]\n",
    "    return istft(filtered_result, filter_sample_rate, filter_window_size, hop_size, total_time)\n",
    "\n",
    "# Create filter window\n",
    "filter_window = high_pass_filter(min_freq, window_size, sample_rate)\n",
    "\n",
    "# Run filter\n",
    "resynth = filter_audio(input_signal, sample_rate, filter_window, window_size)\n",
    "\n",
    "# Write the output audio file\n",
    "write_audio_file(outfile, resynth, sample_rate)"
   ]
  },
  {
   "cell_type": "markdown",
   "metadata": {},
   "source": [
    "#### Input/Output Section"
   ]
  },
  {
   "cell_type": "code",
   "execution_count": null,
   "metadata": {},
   "outputs": [],
   "source": [
    "# Input audio file for filtering\n",
    "infile = \"audio_files/ohm_scale.wav\"\n",
    "# Output audio file after filtering\n",
    "outfile = \"audio_files/high_pass_out.wav\"\n",
    "# Define window size\n",
    "window_size = 256\n",
    "# Define minimum frequency\n",
    "min_freq = 2500"
   ]
  },
  {
   "cell_type": "markdown",
   "metadata": {},
   "source": [
    "### Print some debugging info"
   ]
  },
  {
   "cell_type": "code",
   "execution_count": null,
   "metadata": {},
   "outputs": [],
   "source": [
    "(sample_rate, input_signal) = wf.read(infile)\n",
    "print(\"sample rate is:\", sample_rate)\n",
    "print(\"input signal is:\", input_signal)\n",
    "print(\"window size is:\", window_size)\n",
    "print(\"minimum frequency is:\", min_freq)"
   ]
  },
  {
   "cell_type": "markdown",
   "metadata": {},
   "source": [
    "sample rate is: 44100\n",
    "\n",
    "input signal is: [   0   -1    0 ... -106 -195 -247]\n",
    "\n",
    "window size is: 256\n",
    "\n",
    "minimum frequency is: 2500"
   ]
  },
  {
   "cell_type": "markdown",
   "metadata": {},
   "source": [
    "## Plot the graphs (before filtering)"
   ]
  },
  {
   "cell_type": "markdown",
   "metadata": {},
   "source": [
    "### Plot the sound wave amplitude - time (in seconds) graph before applying filter"
   ]
  },
  {
   "cell_type": "code",
   "execution_count": null,
   "metadata": {},
   "outputs": [],
   "source": [
    "setup_graph(title='Sound wave (Before)', x_label='time (in seconds)', y_label='amplitude', fig_size=(14, 7))\n",
    "_ = plt.plot(input_signal)\n",
    "plt.show()"
   ]
  },
  {
   "cell_type": "markdown",
   "metadata": {},
   "source": [
    "![title](screenshots/1.png)"
   ]
  },
  {
   "cell_type": "code",
   "execution_count": 6,
   "metadata": {},
   "outputs": [],
   "source": [
    "### Plot the spectrogram (frequency - time (in seconds)) graph of the input audio signal"
   ]
  },
  {
   "cell_type": "code",
   "execution_count": null,
   "metadata": {},
   "outputs": [],
   "source": [
    "setup_graph(title='Spectrogram (Before)', x_label='time (in seconds)', y_label='frequency', fig_size=(14, 7))\n",
    "_ = plt.specgram(input_signal, Fs=sample_rate)\n",
    "plt.show()"
   ]
  },
  {
   "cell_type": "markdown",
   "metadata": {},
   "source": [
    "![title](screenshots/2.png)"
   ]
  },
  {
   "cell_type": "markdown",
   "metadata": {},
   "source": [
    "## Plot the graphs (after filtering)"
   ]
  },
  {
   "cell_type": "markdown",
   "metadata": {},
   "source": [
    "### Plot the sound wave amplitude - time (in seconds) graph after applying filter"
   ]
  },
  {
   "cell_type": "code",
   "execution_count": null,
   "metadata": {},
   "outputs": [],
   "source": [
    "setup_graph(title='Sound wave (After)', x_label='time (in seconds)', y_label='amplitude', fig_size=(14, 7))\n",
    "_ = plt.plot(resynth)\n",
    "plt.show()"
   ]
  },
  {
   "cell_type": "markdown",
   "metadata": {},
   "source": [
    "![title](screenshots/3.png)"
   ]
  },
  {
   "cell_type": "markdown",
   "metadata": {},
   "source": [
    "### Plot the spectrogram (frequency - time (in seconds)) graph of the input audio signal"
   ]
  },
  {
   "cell_type": "code",
   "execution_count": null,
   "metadata": {},
   "outputs": [],
   "source": [
    "setup_graph(title='Spectrogram (After)', x_label='time (in seconds)', y_label='frequency', fig_size=(14, 7))\n",
    "_ = plt.specgram(resynth, Fs=sample_rate)\n",
    "plt.show()"
   ]
  },
  {
   "cell_type": "markdown",
   "metadata": {},
   "source": [
    "![title](screenshots/4.png)"
   ]
  }
 ],
 "metadata": {
  "kernelspec": {
   "display_name": "Python 3",
   "language": "python",
   "name": "python3"
  },
  "language_info": {
   "codemirror_mode": {
    "name": "ipython",
    "version": 3
   },
   "file_extension": ".py",
   "mimetype": "text/x-python",
   "name": "python",
   "nbconvert_exporter": "python",
   "pygments_lexer": "ipython3",
   "version": "3.6.5"
  }
 },
 "nbformat": 4,
 "nbformat_minor": 2
}
